{
 "cells": [
  {
   "cell_type": "code",
   "execution_count": 1,
   "id": "25b57077-fd94-4d99-a033-34770b02b15b",
   "metadata": {
    "scrolled": true
   },
   "outputs": [
    {
     "name": "stdout",
     "output_type": "stream",
     "text": [
      "Requirement already satisfied: pandas in c:\\users\\abara\\anaconda3\\lib\\site-packages (2.2.3)\n",
      "Requirement already satisfied: lxml in c:\\users\\abara\\anaconda3\\lib\\site-packages (5.3.0)\n",
      "Requirement already satisfied: html5lib in c:\\users\\abara\\anaconda3\\lib\\site-packages (1.1)\n",
      "Requirement already satisfied: openpyxl in c:\\users\\abara\\anaconda3\\lib\\site-packages (3.1.5)\n",
      "Requirement already satisfied: numpy>=1.26.0 in c:\\users\\abara\\anaconda3\\lib\\site-packages (from pandas) (2.1.3)\n",
      "Requirement already satisfied: python-dateutil>=2.8.2 in c:\\users\\abara\\anaconda3\\lib\\site-packages (from pandas) (2.9.0.post0)\n",
      "Requirement already satisfied: pytz>=2020.1 in c:\\users\\abara\\anaconda3\\lib\\site-packages (from pandas) (2024.1)\n",
      "Requirement already satisfied: tzdata>=2022.7 in c:\\users\\abara\\anaconda3\\lib\\site-packages (from pandas) (2025.2)\n",
      "Requirement already satisfied: six>=1.9 in c:\\users\\abara\\anaconda3\\lib\\site-packages (from html5lib) (1.17.0)\n",
      "Requirement already satisfied: webencodings in c:\\users\\abara\\anaconda3\\lib\\site-packages (from html5lib) (0.5.1)\n",
      "Requirement already satisfied: et-xmlfile in c:\\users\\abara\\anaconda3\\lib\\site-packages (from openpyxl) (1.1.0)\n",
      "Файл успешно сохранён.\n"
     ]
    }
   ],
   "source": [
    "\"\"\"Utilities for parsing HTML tables.\"\"\"\n",
    "\n",
    "\n",
    "import pandas as pd\n",
    "from bs4 import BeautifulSoup\n",
    "!pip install pandas lxml html5lib openpyxl   \n",
    "\n",
    "def parse_html_tables(source: str):\n",
    "    \"\"\"Parse all HTML tables from the given source.\n",
    "\n",
    "    Parameters\n",
    "    ----------\n",
    "    source : str\n",
    "        HTML text, path to a local file or URL.\n",
    "\n",
    "    Returns\n",
    "    -------\n",
    "    list[pd.DataFrame]\n",
    "        A list of DataFrames for each table found.\n",
    "    \"\"\"\n",
    "    try:\n",
    "        tables = pd.read_html(source)\n",
    "        return tables\n",
    "    except ValueError:\n",
    "        # No tables found\n",
    "        return []\n",
    "\n",
    "\n",
    "def parse_html_table(html: str, index: int = 0):\n",
    "    \"\"\"Parse a single HTML table using BeautifulSoup.\n",
    "\n",
    "    Parameters\n",
    "    ----------\n",
    "    html : str\n",
    "        HTML markup containing at least one table.\n",
    "\n",
    "    Returns\n",
    "    -------\n",
    "    list[list[str]]\n",
    "        Parsed table as a list of rows with cell values.\n",
    "    \"\"\"\n",
    "    soup = BeautifulSoup(html, 'html.parser')\n",
    "    tables = soup.find_all('table')\n",
    "    if not tables or index >= len(tables):\n",
    "        return []\n",
    "    table = tables[index]\n",
    "\n",
    "    rows: list[list[str]] = []\n",
    "    for tr in table.find_all('tr'):\n",
    "        cells = [td.get_text(strip=True) for td in tr.find_all(['td', 'th'])]\n",
    "        if cells:\n",
    "            rows.append(cells)\n",
    "    return rows\n",
    "\n",
    "\n",
    "# Откройте ваш HTML-файл\n",
    "with open('test.html', 'r', encoding='utf-8') as file:\n",
    "    html_content = file.read()\n",
    "\n",
    "# Вызовите парсер\n",
    "result = parse_html_table(html_content)  # Замените на актуальное имя функции\n",
    "\n",
    "\n",
    "\n",
    "tables = pd.read_html(\"test.html\")\n",
    "\n",
    "if tables:\n",
    "    with pd.ExcelWriter(\"all_tables2.xlsx\", engine=\"openpyxl\") as writer:\n",
    "        for i, table in enumerate(tables):\n",
    "            table.to_excel(writer, sheet_name=f\"Table_{i+1}\", index=False)\n",
    "    print(\"Файл успешно сохранён.\")\n",
    "else:\n",
    "    print(\"❌ Таблицы не найдены в HTML-файле.\")\n",
    "\n",
    "\n"
   ]
  },
  {
   "cell_type": "code",
   "execution_count": null,
   "id": "90711eb3-6687-4cc0-a1cf-9106336eff1f",
   "metadata": {},
   "outputs": [],
   "source": []
  },
  {
   "cell_type": "code",
   "execution_count": null,
   "id": "645d975d-41e0-4af2-9114-ae89cd51061e",
   "metadata": {},
   "outputs": [],
   "source": []
  },
  {
   "cell_type": "code",
   "execution_count": null,
   "id": "77e66f90-5db5-4afa-a863-e9ee8643c8eb",
   "metadata": {},
   "outputs": [],
   "source": []
  }
 ],
 "metadata": {
  "kernelspec": {
   "display_name": "Python [conda env:base] *",
   "language": "python",
   "name": "conda-base-py"
  },
  "language_info": {
   "codemirror_mode": {
    "name": "ipython",
    "version": 3
   },
   "file_extension": ".py",
   "mimetype": "text/x-python",
   "name": "python",
   "nbconvert_exporter": "python",
   "pygments_lexer": "ipython3",
   "version": "3.13.5"
  }
 },
 "nbformat": 4,
 "nbformat_minor": 5
}
